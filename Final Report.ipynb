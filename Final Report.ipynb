{
    "cells": [
        {
            "metadata": {
                "collapsed": true
            },
            "cell_type": "markdown",
            "source": "# Capstone final project: Clustering New York Neighborhoods for better Homeowners Insurance Risk Assesment"
        },
        {
            "metadata": {},
            "cell_type": "markdown",
            "source": "## Business question "
        },
        {
            "metadata": {},
            "cell_type": "markdown",
            "source": "For many years the impact of pricing practices in retail General Insurance, and Home and Motor Insurance in particular, have regularly featured in the media as a source of enormous customer frustration.\nInsurers must effectively adapt to new technological, market, and consumer complexities with better, more dynamic pricing if they want to maintain competitive advantage in the insurance industry. For the following reasons: \nThere is increased price and value transparency. A fast-growing collection of price and feature-comparison websites empowers consumers to compare and contrast hundreds of insurance products by price, value, and benefits. These sites are also educating consumers on how to more effectively match a product choice with their unique needs and willingness to pay, as are insurance brokers. \nConsumers are more informed and sophisticated. As prices have become more transparent, consumers are increasingly open to new propositions based on different variables\u2014such as security, mobility, and different types of coverage\u2014and these propositions require new, dynamic pricing structures.\nNew technology disruptors are enabling new pricing models. Big data, the Internet of Things, and predictive data analysis tools are giving insurance companies an advanced and broad ability to design usage-based and other innovative pricing models; draw data from new, external sources and estimate risk or consumer willingness to pay, buy, or churn more accurately; and more accurately identify during the underwriting phase those applicants likely to commit fraud.\n"
        },
        {
            "metadata": {},
            "cell_type": "markdown",
            "source": "## Data and problem solving"
        },
        {
            "metadata": {},
            "cell_type": "markdown",
            "source": "While developing risk profiles, location intelligence enables the insurers to get answers to vital questions such as where the assets are located, their proximity to hazards and many others. By helping them to have a more accurate estimate of risk, geospatial data analysis makes it easier for the insurers to meet the needs of the customers more effectively.\nAdditionally, when a catastrophe occurs, the models built can significantly aid in locating policyholders and assessing the impact. Accordingly, claims processing also gets expedited. Where previously it might take days or weeks to assess the insurance market\u2019s exposure to a climate event, today, geospatial data visualisation tools using real-time flood warning data, can quickly calculate the levels of exposure and export customer lists to help with mitigating damage from the upcoming event.\nWe will use the foursquare data to cluster New York\u2019s neighborhoods so later on as an insurer we can understand and assess the risk related to Homeowners insurance policies in New York. Neighborhood has a total of 5 boroughs and 306 neighborhoods. In order to segement the neighborhoods and explore them, we will essentially need a dataset that contains the 5 boroughs and the neighborhoods that exist in each borough as well as the the latitude and logitude coordinates of each neighborhood.\n"
        },
        {
            "metadata": {},
            "cell_type": "markdown",
            "source": "## Methodology "
        },
        {
            "metadata": {},
            "cell_type": "markdown",
            "source": "Neighborhood segmentation is the practice of partitioning a Neighborhood base into groups of areas that have similar characteristics. One of the algorithms that can be used for Neighborhood segmentation is K-Means clustering. K-Means can group data only unsupervised based on the similarity of customers to each other. Let's define this technique more formally. There are various types of clustering algorithms such as partitioning, hierarchical or density-based clustering. K-Means is a type of partitioning clustering, that is, it divides the data into K non-overlapping subsets or clusters without any cluster internal structure or labels. This means, it's an unsupervised algorithm. Objects within a cluster are very similar, and objects across different clusters are very different or dissimilar.\n"
        },
        {
            "metadata": {},
            "cell_type": "markdown",
            "source": "## Results"
        },
        {
            "metadata": {},
            "cell_type": "markdown",
            "source": "After using the K-means methods we found 5 clusters as set in the beginning, the algorithm helped us to cluster the neighborhoods in new york we focused on brooklyn. The algorithm segmented the neighborhoods based on similarity. now we have 5 simiar areas in case we wanted to compare between them."
        },
        {
            "metadata": {},
            "cell_type": "markdown",
            "source": "## Discussion"
        },
        {
            "metadata": {},
            "cell_type": "markdown",
            "source": "Clustering the neighborhoods helps us as insurers to get insight about similarity between different areas. We look at these areas as risk areas and it helps us to determine the risk profile related to the risks we are going to insure in the future.\nAlso for the insurance customer, he can compare his insurance with someone else's living in a similar area. This is a very simple yet powerful tool it helps us to figure out similarities between regions and in our case we are taking this from an insurance company persepctive.\nby using this method we can determine a new feature based on similarity between risk zones so we can give or perform better pricing.  and to stay compettive in a changing market.\nINsurers should take into consideration this kind of data and use it for better pricing in the next step we will use the similarity between areas to determine the exposure but this is another topic maybe we will treat it in another project."
        },
        {
            "metadata": {},
            "cell_type": "markdown",
            "source": "## Conclusion"
        },
        {
            "metadata": {},
            "cell_type": "markdown",
            "source": "In this digital era, the insurers shoulld take into consideration the different data sources in thier everyday business conduct in order to meet the customers expectations and to be aligned with the markets requierements.\nNew technology disruptors are enabling new pricing models. Big data, the Internet of Things, and predictive data analysis tools are giving insurance companies an advanced and broad ability to design usage-based and other innovative pricing models; draw data from new, external sources and estimate risk or consumer willingness to pay, buy, or churn more accurately; and more accurately identify during the underwriting phase those applicants likely to commit fraud."
        },
        {
            "metadata": {},
            "cell_type": "code",
            "source": "",
            "execution_count": null,
            "outputs": []
        }
    ],
    "metadata": {
        "kernelspec": {
            "name": "python3",
            "display_name": "Python 3.7",
            "language": "python"
        },
        "language_info": {
            "name": "python",
            "version": "3.7.10",
            "mimetype": "text/x-python",
            "codemirror_mode": {
                "name": "ipython",
                "version": 3
            },
            "pygments_lexer": "ipython3",
            "nbconvert_exporter": "python",
            "file_extension": ".py"
        }
    },
    "nbformat": 4,
    "nbformat_minor": 1
}